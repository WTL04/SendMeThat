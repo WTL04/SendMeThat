{
 "cells": [
  {
   "cell_type": "code",
   "execution_count": null,
   "id": "84530a31-1eb3-4fe0-8626-4c40a911c91e",
   "metadata": {
    "scrolled": true
   },
   "outputs": [
    {
     "name": "stdout",
     "output_type": "stream",
     "text": [
      "Requirement already satisfied: tensorflow-cpu==2.11.0 in ./venv310/lib/python3.10/site-packages (from -r req.txt (line 1)) (2.11.0)\n",
      "Requirement already satisfied: keras==2.11.0 in ./venv310/lib/python3.10/site-packages (from -r req.txt (line 2)) (2.11.0)\n",
      "Requirement already satisfied: opencv-python in ./venv310/lib/python3.10/site-packages (from -r req.txt (line 3)) (4.11.0.86)\n",
      "Requirement already satisfied: matplotlib in ./venv310/lib/python3.10/site-packages (from -r req.txt (line 4)) (3.10.3)\n",
      "Requirement already satisfied: numpy==1.24.3 in ./venv310/lib/python3.10/site-packages (from -r req.txt (line 5)) (1.24.3)\n",
      "Requirement already satisfied: pandas in ./venv310/lib/python3.10/site-packages (from -r req.txt (line 6)) (2.3.0)\n",
      "Requirement already satisfied: retina-face in ./venv310/lib/python3.10/site-packages (from -r req.txt (line 7)) (0.0.17)\n",
      "Collecting facenet-pytorch (from -r req.txt (line 8))\n",
      "  Downloading facenet_pytorch-2.6.0-py3-none-any.whl.metadata (12 kB)\n",
      "Requirement already satisfied: absl-py>=1.0.0 in ./venv310/lib/python3.10/site-packages (from tensorflow-cpu==2.11.0->-r req.txt (line 1)) (2.3.1)\n",
      "Requirement already satisfied: astunparse>=1.6.0 in ./venv310/lib/python3.10/site-packages (from tensorflow-cpu==2.11.0->-r req.txt (line 1)) (1.6.3)\n",
      "Requirement already satisfied: flatbuffers>=2.0 in ./venv310/lib/python3.10/site-packages (from tensorflow-cpu==2.11.0->-r req.txt (line 1)) (25.2.10)\n",
      "Requirement already satisfied: gast<=0.4.0,>=0.2.1 in ./venv310/lib/python3.10/site-packages (from tensorflow-cpu==2.11.0->-r req.txt (line 1)) (0.4.0)\n",
      "Requirement already satisfied: google-pasta>=0.1.1 in ./venv310/lib/python3.10/site-packages (from tensorflow-cpu==2.11.0->-r req.txt (line 1)) (0.2.0)\n",
      "Requirement already satisfied: grpcio<2.0,>=1.24.3 in ./venv310/lib/python3.10/site-packages (from tensorflow-cpu==2.11.0->-r req.txt (line 1)) (1.73.1)\n",
      "Requirement already satisfied: h5py>=2.9.0 in ./venv310/lib/python3.10/site-packages (from tensorflow-cpu==2.11.0->-r req.txt (line 1)) (3.14.0)\n",
      "Requirement already satisfied: libclang>=13.0.0 in ./venv310/lib/python3.10/site-packages (from tensorflow-cpu==2.11.0->-r req.txt (line 1)) (18.1.1)\n",
      "Requirement already satisfied: opt-einsum>=2.3.2 in ./venv310/lib/python3.10/site-packages (from tensorflow-cpu==2.11.0->-r req.txt (line 1)) (3.4.0)\n",
      "Requirement already satisfied: packaging in ./venv310/lib/python3.10/site-packages (from tensorflow-cpu==2.11.0->-r req.txt (line 1)) (25.0)\n",
      "Requirement already satisfied: protobuf<3.20,>=3.9.2 in ./venv310/lib/python3.10/site-packages (from tensorflow-cpu==2.11.0->-r req.txt (line 1)) (3.19.6)\n",
      "Requirement already satisfied: setuptools in ./venv310/lib/python3.10/site-packages (from tensorflow-cpu==2.11.0->-r req.txt (line 1)) (65.5.0)\n",
      "Requirement already satisfied: six>=1.12.0 in ./venv310/lib/python3.10/site-packages (from tensorflow-cpu==2.11.0->-r req.txt (line 1)) (1.17.0)\n",
      "Requirement already satisfied: tensorboard<2.12,>=2.11 in ./venv310/lib/python3.10/site-packages (from tensorflow-cpu==2.11.0->-r req.txt (line 1)) (2.11.2)\n",
      "Requirement already satisfied: tensorflow-estimator<2.12,>=2.11.0 in ./venv310/lib/python3.10/site-packages (from tensorflow-cpu==2.11.0->-r req.txt (line 1)) (2.11.0)\n",
      "Requirement already satisfied: termcolor>=1.1.0 in ./venv310/lib/python3.10/site-packages (from tensorflow-cpu==2.11.0->-r req.txt (line 1)) (3.1.0)\n",
      "Requirement already satisfied: typing-extensions>=3.6.6 in ./venv310/lib/python3.10/site-packages (from tensorflow-cpu==2.11.0->-r req.txt (line 1)) (4.14.1)\n",
      "Requirement already satisfied: wrapt>=1.11.0 in ./venv310/lib/python3.10/site-packages (from tensorflow-cpu==2.11.0->-r req.txt (line 1)) (1.17.2)\n",
      "Requirement already satisfied: tensorflow-io-gcs-filesystem>=0.23.1 in ./venv310/lib/python3.10/site-packages (from tensorflow-cpu==2.11.0->-r req.txt (line 1)) (0.37.1)\n",
      "Requirement already satisfied: google-auth<3,>=1.6.3 in ./venv310/lib/python3.10/site-packages (from tensorboard<2.12,>=2.11->tensorflow-cpu==2.11.0->-r req.txt (line 1)) (2.40.3)\n",
      "Requirement already satisfied: google-auth-oauthlib<0.5,>=0.4.1 in ./venv310/lib/python3.10/site-packages (from tensorboard<2.12,>=2.11->tensorflow-cpu==2.11.0->-r req.txt (line 1)) (0.4.6)\n",
      "Requirement already satisfied: markdown>=2.6.8 in ./venv310/lib/python3.10/site-packages (from tensorboard<2.12,>=2.11->tensorflow-cpu==2.11.0->-r req.txt (line 1)) (3.8.2)\n",
      "Requirement already satisfied: requests<3,>=2.21.0 in ./venv310/lib/python3.10/site-packages (from tensorboard<2.12,>=2.11->tensorflow-cpu==2.11.0->-r req.txt (line 1)) (2.32.4)\n",
      "Requirement already satisfied: tensorboard-data-server<0.7.0,>=0.6.0 in ./venv310/lib/python3.10/site-packages (from tensorboard<2.12,>=2.11->tensorflow-cpu==2.11.0->-r req.txt (line 1)) (0.6.1)\n",
      "Requirement already satisfied: tensorboard-plugin-wit>=1.6.0 in ./venv310/lib/python3.10/site-packages (from tensorboard<2.12,>=2.11->tensorflow-cpu==2.11.0->-r req.txt (line 1)) (1.8.1)\n",
      "Requirement already satisfied: werkzeug>=1.0.1 in ./venv310/lib/python3.10/site-packages (from tensorboard<2.12,>=2.11->tensorflow-cpu==2.11.0->-r req.txt (line 1)) (3.1.3)\n",
      "Requirement already satisfied: wheel>=0.26 in ./venv310/lib/python3.10/site-packages (from tensorboard<2.12,>=2.11->tensorflow-cpu==2.11.0->-r req.txt (line 1)) (0.45.1)\n",
      "Requirement already satisfied: cachetools<6.0,>=2.0.0 in ./venv310/lib/python3.10/site-packages (from google-auth<3,>=1.6.3->tensorboard<2.12,>=2.11->tensorflow-cpu==2.11.0->-r req.txt (line 1)) (5.5.2)\n",
      "Requirement already satisfied: pyasn1-modules>=0.2.1 in ./venv310/lib/python3.10/site-packages (from google-auth<3,>=1.6.3->tensorboard<2.12,>=2.11->tensorflow-cpu==2.11.0->-r req.txt (line 1)) (0.4.2)\n",
      "Requirement already satisfied: rsa<5,>=3.1.4 in ./venv310/lib/python3.10/site-packages (from google-auth<3,>=1.6.3->tensorboard<2.12,>=2.11->tensorflow-cpu==2.11.0->-r req.txt (line 1)) (4.9.1)\n",
      "Requirement already satisfied: requests-oauthlib>=0.7.0 in ./venv310/lib/python3.10/site-packages (from google-auth-oauthlib<0.5,>=0.4.1->tensorboard<2.12,>=2.11->tensorflow-cpu==2.11.0->-r req.txt (line 1)) (2.0.0)\n",
      "Requirement already satisfied: charset_normalizer<4,>=2 in ./venv310/lib/python3.10/site-packages (from requests<3,>=2.21.0->tensorboard<2.12,>=2.11->tensorflow-cpu==2.11.0->-r req.txt (line 1)) (3.4.2)\n",
      "Requirement already satisfied: idna<4,>=2.5 in ./venv310/lib/python3.10/site-packages (from requests<3,>=2.21.0->tensorboard<2.12,>=2.11->tensorflow-cpu==2.11.0->-r req.txt (line 1)) (3.10)\n",
      "Requirement already satisfied: urllib3<3,>=1.21.1 in ./venv310/lib/python3.10/site-packages (from requests<3,>=2.21.0->tensorboard<2.12,>=2.11->tensorflow-cpu==2.11.0->-r req.txt (line 1)) (2.5.0)\n",
      "Requirement already satisfied: certifi>=2017.4.17 in ./venv310/lib/python3.10/site-packages (from requests<3,>=2.21.0->tensorboard<2.12,>=2.11->tensorflow-cpu==2.11.0->-r req.txt (line 1)) (2025.6.15)\n",
      "Requirement already satisfied: pyasn1>=0.1.3 in ./venv310/lib/python3.10/site-packages (from rsa<5,>=3.1.4->google-auth<3,>=1.6.3->tensorboard<2.12,>=2.11->tensorflow-cpu==2.11.0->-r req.txt (line 1)) (0.6.1)\n",
      "Requirement already satisfied: contourpy>=1.0.1 in ./venv310/lib/python3.10/site-packages (from matplotlib->-r req.txt (line 4)) (1.3.2)\n",
      "Requirement already satisfied: cycler>=0.10 in ./venv310/lib/python3.10/site-packages (from matplotlib->-r req.txt (line 4)) (0.12.1)\n",
      "Requirement already satisfied: fonttools>=4.22.0 in ./venv310/lib/python3.10/site-packages (from matplotlib->-r req.txt (line 4)) (4.58.5)\n",
      "Requirement already satisfied: kiwisolver>=1.3.1 in ./venv310/lib/python3.10/site-packages (from matplotlib->-r req.txt (line 4)) (1.4.8)\n",
      "Requirement already satisfied: pillow>=8 in ./venv310/lib/python3.10/site-packages (from matplotlib->-r req.txt (line 4)) (11.3.0)\n",
      "Requirement already satisfied: pyparsing>=2.3.1 in ./venv310/lib/python3.10/site-packages (from matplotlib->-r req.txt (line 4)) (3.2.3)\n",
      "Requirement already satisfied: python-dateutil>=2.7 in ./venv310/lib/python3.10/site-packages (from matplotlib->-r req.txt (line 4)) (2.9.0.post0)\n",
      "Requirement already satisfied: pytz>=2020.1 in ./venv310/lib/python3.10/site-packages (from pandas->-r req.txt (line 6)) (2025.2)\n",
      "Requirement already satisfied: tzdata>=2022.7 in ./venv310/lib/python3.10/site-packages (from pandas->-r req.txt (line 6)) (2025.2)\n",
      "Requirement already satisfied: gdown>=3.10.1 in ./venv310/lib/python3.10/site-packages (from retina-face->-r req.txt (line 7)) (5.2.0)\n",
      "Requirement already satisfied: tensorflow>=1.9.0 in ./venv310/lib/python3.10/site-packages (from retina-face->-r req.txt (line 7)) (2.11.1)\n",
      "Collecting pillow>=8 (from matplotlib->-r req.txt (line 4))\n",
      "  Downloading pillow-10.2.0-cp310-cp310-manylinux_2_28_x86_64.whl.metadata (9.7 kB)\n",
      "Collecting torch<2.3.0,>=2.2.0 (from facenet-pytorch->-r req.txt (line 8))\n",
      "  Downloading torch-2.2.2-cp310-cp310-manylinux1_x86_64.whl.metadata (26 kB)\n",
      "Collecting torchvision<0.18.0,>=0.17.0 (from facenet-pytorch->-r req.txt (line 8))\n",
      "  Downloading torchvision-0.17.2-cp310-cp310-manylinux1_x86_64.whl.metadata (6.6 kB)\n",
      "Requirement already satisfied: tqdm<5.0.0,>=4.0.0 in ./venv310/lib/python3.10/site-packages (from facenet-pytorch->-r req.txt (line 8)) (4.67.1)\n",
      "Requirement already satisfied: filelock in ./venv310/lib/python3.10/site-packages (from torch<2.3.0,>=2.2.0->facenet-pytorch->-r req.txt (line 8)) (3.18.0)\n",
      "Collecting sympy (from torch<2.3.0,>=2.2.0->facenet-pytorch->-r req.txt (line 8))\n",
      "  Using cached sympy-1.14.0-py3-none-any.whl.metadata (12 kB)\n",
      "Collecting networkx (from torch<2.3.0,>=2.2.0->facenet-pytorch->-r req.txt (line 8))\n",
      "  Using cached networkx-3.4.2-py3-none-any.whl.metadata (6.3 kB)\n",
      "Collecting jinja2 (from torch<2.3.0,>=2.2.0->facenet-pytorch->-r req.txt (line 8))\n",
      "  Using cached jinja2-3.1.6-py3-none-any.whl.metadata (2.9 kB)\n",
      "Collecting fsspec (from torch<2.3.0,>=2.2.0->facenet-pytorch->-r req.txt (line 8))\n",
      "  Using cached fsspec-2025.5.1-py3-none-any.whl.metadata (11 kB)\n",
      "Collecting nvidia-cuda-nvrtc-cu12==12.1.105 (from torch<2.3.0,>=2.2.0->facenet-pytorch->-r req.txt (line 8))\n",
      "  Downloading nvidia_cuda_nvrtc_cu12-12.1.105-py3-none-manylinux1_x86_64.whl.metadata (1.5 kB)\n",
      "Collecting nvidia-cuda-runtime-cu12==12.1.105 (from torch<2.3.0,>=2.2.0->facenet-pytorch->-r req.txt (line 8))\n",
      "  Downloading nvidia_cuda_runtime_cu12-12.1.105-py3-none-manylinux1_x86_64.whl.metadata (1.5 kB)\n",
      "Collecting nvidia-cuda-cupti-cu12==12.1.105 (from torch<2.3.0,>=2.2.0->facenet-pytorch->-r req.txt (line 8))\n",
      "  Downloading nvidia_cuda_cupti_cu12-12.1.105-py3-none-manylinux1_x86_64.whl.metadata (1.6 kB)\n",
      "Collecting nvidia-cudnn-cu12==8.9.2.26 (from torch<2.3.0,>=2.2.0->facenet-pytorch->-r req.txt (line 8))\n",
      "  Downloading nvidia_cudnn_cu12-8.9.2.26-py3-none-manylinux1_x86_64.whl.metadata (1.6 kB)\n",
      "Collecting nvidia-cublas-cu12==12.1.3.1 (from torch<2.3.0,>=2.2.0->facenet-pytorch->-r req.txt (line 8))\n",
      "  Downloading nvidia_cublas_cu12-12.1.3.1-py3-none-manylinux1_x86_64.whl.metadata (1.5 kB)\n",
      "Collecting nvidia-cufft-cu12==11.0.2.54 (from torch<2.3.0,>=2.2.0->facenet-pytorch->-r req.txt (line 8))\n",
      "  Downloading nvidia_cufft_cu12-11.0.2.54-py3-none-manylinux1_x86_64.whl.metadata (1.5 kB)\n",
      "Collecting nvidia-curand-cu12==10.3.2.106 (from torch<2.3.0,>=2.2.0->facenet-pytorch->-r req.txt (line 8))\n",
      "  Downloading nvidia_curand_cu12-10.3.2.106-py3-none-manylinux1_x86_64.whl.metadata (1.5 kB)\n",
      "Collecting nvidia-cusolver-cu12==11.4.5.107 (from torch<2.3.0,>=2.2.0->facenet-pytorch->-r req.txt (line 8))\n",
      "  Downloading nvidia_cusolver_cu12-11.4.5.107-py3-none-manylinux1_x86_64.whl.metadata (1.6 kB)\n",
      "Collecting nvidia-cusparse-cu12==12.1.0.106 (from torch<2.3.0,>=2.2.0->facenet-pytorch->-r req.txt (line 8))\n",
      "  Downloading nvidia_cusparse_cu12-12.1.0.106-py3-none-manylinux1_x86_64.whl.metadata (1.6 kB)\n",
      "Collecting nvidia-nccl-cu12==2.19.3 (from torch<2.3.0,>=2.2.0->facenet-pytorch->-r req.txt (line 8))\n",
      "  Downloading nvidia_nccl_cu12-2.19.3-py3-none-manylinux1_x86_64.whl.metadata (1.8 kB)\n",
      "Collecting nvidia-nvtx-cu12==12.1.105 (from torch<2.3.0,>=2.2.0->facenet-pytorch->-r req.txt (line 8))\n",
      "  Downloading nvidia_nvtx_cu12-12.1.105-py3-none-manylinux1_x86_64.whl.metadata (1.7 kB)\n",
      "Collecting triton==2.2.0 (from torch<2.3.0,>=2.2.0->facenet-pytorch->-r req.txt (line 8))\n",
      "  Downloading triton-2.2.0-cp310-cp310-manylinux_2_17_x86_64.manylinux2014_x86_64.whl.metadata (1.4 kB)\n",
      "Collecting nvidia-nvjitlink-cu12 (from nvidia-cusolver-cu12==11.4.5.107->torch<2.3.0,>=2.2.0->facenet-pytorch->-r req.txt (line 8))\n",
      "  Downloading nvidia_nvjitlink_cu12-12.9.86-py3-none-manylinux2010_x86_64.manylinux_2_12_x86_64.whl.metadata (1.7 kB)\n",
      "Requirement already satisfied: beautifulsoup4 in ./venv310/lib/python3.10/site-packages (from gdown>=3.10.1->retina-face->-r req.txt (line 7)) (4.13.4)\n",
      "Requirement already satisfied: oauthlib>=3.0.0 in ./venv310/lib/python3.10/site-packages (from requests-oauthlib>=0.7.0->google-auth-oauthlib<0.5,>=0.4.1->tensorboard<2.12,>=2.11->tensorflow-cpu==2.11.0->-r req.txt (line 1)) (3.3.1)\n",
      "Requirement already satisfied: MarkupSafe>=2.1.1 in ./venv310/lib/python3.10/site-packages (from werkzeug>=1.0.1->tensorboard<2.12,>=2.11->tensorflow-cpu==2.11.0->-r req.txt (line 1)) (3.0.2)\n",
      "Requirement already satisfied: soupsieve>1.2 in ./venv310/lib/python3.10/site-packages (from beautifulsoup4->gdown>=3.10.1->retina-face->-r req.txt (line 7)) (2.7)\n",
      "Requirement already satisfied: PySocks!=1.5.7,>=1.5.6 in ./venv310/lib/python3.10/site-packages (from requests[socks]->gdown>=3.10.1->retina-face->-r req.txt (line 7)) (1.7.1)\n",
      "Collecting mpmath<1.4,>=1.1.0 (from sympy->torch<2.3.0,>=2.2.0->facenet-pytorch->-r req.txt (line 8))\n",
      "  Using cached mpmath-1.3.0-py3-none-any.whl.metadata (8.6 kB)\n",
      "Downloading facenet_pytorch-2.6.0-py3-none-any.whl (1.9 MB)\n",
      "\u001b[2K   \u001b[90m━━━━━━━━━━━━━━━━━━━━━━━━━━━━━━━━━━━━━━━━\u001b[0m \u001b[32m1.9/1.9 MB\u001b[0m \u001b[31m1.3 MB/s\u001b[0m eta \u001b[36m0:00:00\u001b[0m00:01\u001b[0m00:01\u001b[0m\n",
      "\u001b[?25hDownloading pillow-10.2.0-cp310-cp310-manylinux_2_28_x86_64.whl (4.5 MB)\n",
      "\u001b[2K   \u001b[90m━━━━━━━━━━━━━━━━━━━━━━━━━━━━━━━━━━━━━━━━\u001b[0m \u001b[32m4.5/4.5 MB\u001b[0m \u001b[31m628.0 kB/s\u001b[0m eta \u001b[36m0:00:00\u001b[0ma \u001b[36m0:00:01\u001b[0m\n",
      "\u001b[?25hDownloading torch-2.2.2-cp310-cp310-manylinux1_x86_64.whl (755.5 MB)\n",
      "\u001b[2K   \u001b[91m━━\u001b[0m\u001b[91m╸\u001b[0m\u001b[90m━━━━━━━━━━━━━━━━━━━━━━━━━━━━━━━━━━━━━\u001b[0m \u001b[32m52.4/755.5 MB\u001b[0m \u001b[31m675.0 kB/s\u001b[0m eta \u001b[36m0:17:22\u001b[0m"
     ]
    }
   ],
   "source": [
    "%pip install -r req.txt"
   ]
  },
  {
   "cell_type": "code",
   "execution_count": null,
   "id": "3ba9227b-9c88-44e0-a162-083589d670aa",
   "metadata": {
    "scrolled": true
   },
   "outputs": [],
   "source": [
    "import os\n",
    "os.environ[\"TF_CPP_MIN_LOG_LEVEL\"] = \"3\" # ignore annoying GPU warnings\n",
    "from retinaface import RetinaFace\n",
    "import matplotlib.pyplot as plt\n",
    "import cv2\n",
    "from augmentation import Data_Augmentation "
   ]
  },
  {
   "cell_type": "markdown",
   "id": "53b96cf5-5f07-4e03-8e24-b73278de6dcb",
   "metadata": {},
   "source": [
    "# Face Detection using Retina-Face\n",
    "---"
   ]
  },
  {
   "cell_type": "code",
   "execution_count": null,
   "id": "276337aa-aa24-4aeb-b878-20ff5589faaa",
   "metadata": {},
   "outputs": [],
   "source": [
    "# init images\n",
    "face0 = cv2.imread(\"images/face0.jpg\")\n",
    "face0 = cv2.cvtColor(face0, cv2.COLOR_BGR2RGB)\n",
    "\n",
    "face1 = cv2.imread(\"images/face1.jpg\")\n",
    "face1 = cv2.cvtColor(face1, cv2.COLOR_BGR2RGB)\n",
    "\n",
    "group0 = cv2.imread(\"images/group0.jpg\")\n",
    "group0 = cv2.cvtColor(group0, cv2.COLOR_BGR2RGB)\n",
    "\n",
    "group1 = cv2.imread(\"images/group1.jpg\")\n",
    "group1 = cv2.cvtColor(group1, cv2.COLOR_BGR2RGB)"
   ]
  },
  {
   "cell_type": "code",
   "execution_count": null,
   "id": "5f0e414c-5b10-438a-9218-c6cb75a83d55",
   "metadata": {},
   "outputs": [],
   "source": [
    "img = group0"
   ]
  },
  {
   "cell_type": "code",
   "execution_count": null,
   "id": "496f45ed-a9e8-44c3-8a6e-bd9cb41da284",
   "metadata": {},
   "outputs": [],
   "source": [
    "faces = RetinaFace.detect_faces(img)"
   ]
  },
  {
   "cell_type": "code",
   "execution_count": null,
   "id": "6a655fa8-46f3-465c-a556-42d1e1baee9a",
   "metadata": {},
   "outputs": [],
   "source": [
    "len(faces.keys()) # returns number of faces deteched"
   ]
  },
  {
   "cell_type": "code",
   "execution_count": null,
   "id": "ecdc858d-6894-40ee-a865-d5679fba94c3",
   "metadata": {},
   "outputs": [],
   "source": [
    "for key in faces:\n",
    "    face = faces[key]\n",
    "    facial_area = face[\"facial_area\"]  # [x1, y1, x2, y2]\n",
    "    x1, y1, x2, y2 = facial_area\n",
    "    cv2.rectangle(img, (x1, y1), (x2, y2), (0, 255, 0), 3)"
   ]
  },
  {
   "cell_type": "code",
   "execution_count": null,
   "id": "ac00f62a-5110-458d-988a-7e13ffda8789",
   "metadata": {},
   "outputs": [],
   "source": [
    "plt.imshow(img)\n",
    "plt.show()"
   ]
  },
  {
   "cell_type": "code",
   "execution_count": null,
   "id": "cedc515c-2520-43f5-8124-7a8b822069b6",
   "metadata": {},
   "outputs": [],
   "source": [
    "faces = RetinaFace.extract_faces(img, align=True)\n",
    "for face in faces:\n",
    "    face = cv2.cvtColor(face, cv2.COLOR_BGR2RGB)\n",
    "    plt.imshow(face)\n",
    "    plt.show()"
   ]
  },
  {
   "cell_type": "markdown",
   "id": "2a2b6c5b-6d4f-44c4-9eb5-bcd26424793a",
   "metadata": {},
   "source": [
    "# Data Augmentation\n",
    "--- "
   ]
  },
  {
   "cell_type": "code",
   "execution_count": null,
   "id": "204808e7-bf0d-45ba-a3da-0efc583caf3e",
   "metadata": {},
   "outputs": [],
   "source": [
    "img_path = \"images/headshots/will.jpeg\"\n",
    "img = cv2.imread(img_path)\n",
    "img = cv2.cvtColor(img, cv2.COLOR_BGR2RGB)\n",
    "\n",
    "# brightness\n",
    "brightened_img = Data_Augmentation.brightness(img, 100)\n",
    "darkened_img = Data_Augmentation.brightness(img, -30)\n",
    "\n",
    "# contrast (0 < factor <= 1 for low contrast) and (factor <= 1 for high contrast)\n",
    "high_contrast_img = Data_Augmentation.contrast(img, 3)\n",
    "low_contrast_img = Data_Augmentation.contrast(img, 0.4)\n"
   ]
  },
  {
   "cell_type": "code",
   "execution_count": null,
   "id": "b200db52-08b8-416d-a2fc-d7210231a3cb",
   "metadata": {
    "scrolled": true
   },
   "outputs": [],
   "source": [
    "fig = plt.figure(figsize=(8,40))\n",
    "\n",
    "ax1 = fig.add_subplot(921)\n",
    "ax1.set_title('Original Image')\n",
    "plt.imshow(img)\n",
    "\n",
    "ax2 = fig.add_subplot(922)\n",
    "ax2.set_title(\"Brightened Image\")\n",
    "plt.imshow(brightened_img)\n",
    "\n",
    "ax3 = fig.add_subplot(923)\n",
    "ax3.set_title('Original Image')\n",
    "plt.imshow(img)\n",
    "\n",
    "ax4 = fig.add_subplot(924)\n",
    "ax4.set_title('Darkened Image')\n",
    "plt.imshow(darkened_img)\n",
    "\n",
    "ax5 = fig.add_subplot(925)\n",
    "ax5.set_title('Original Image')\n",
    "plt.imshow(img)\n",
    "\n",
    "ax6 = fig.add_subplot(926)\n",
    "ax6.set_title('High Contrast')\n",
    "plt.imshow(high_contrast_img)\n",
    "\n",
    "ax7 = fig.add_subplot(927)\n",
    "ax7.set_title('Original Image')\n",
    "plt.imshow(img)\n",
    "\n",
    "ax8 = fig.add_subplot(928)\n",
    "ax8.set_title('Low Contrast')\n",
    "plt.imshow(low_contrast_img)"
   ]
  },
  {
   "cell_type": "markdown",
   "id": "3304fa99-701f-4844-ae1b-a92ab5b66330",
   "metadata": {},
   "source": [
    "# Face Recognition\n",
    "---\n",
    "- Anchor Image (xa) : Contact Photo\n",
    "- Positive Image (xp) : Group Photo Face\n",
    "- Negative Image (xn) : Random Face from Group thats not Anchor\n",
    "- Goal:\n",
    "    - Minimize distance between xa and xp\n",
    "    - Maximize distance between xa and xn\n"
   ]
  }
 ],
 "metadata": {
  "kernelspec": {
   "display_name": "Python3.10 (venv310)",
   "language": "python",
   "name": "myvenv"
  },
  "language_info": {
   "codemirror_mode": {
    "name": "ipython",
    "version": 3
   },
   "file_extension": ".py",
   "mimetype": "text/x-python",
   "name": "python",
   "nbconvert_exporter": "python",
   "pygments_lexer": "ipython3",
   "version": "3.10.13"
  }
 },
 "nbformat": 4,
 "nbformat_minor": 5
}
